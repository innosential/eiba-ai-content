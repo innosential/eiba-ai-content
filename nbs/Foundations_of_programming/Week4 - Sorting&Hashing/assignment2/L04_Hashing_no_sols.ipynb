{
 "cells": [
  {
   "cell_type": "markdown",
   "metadata": {},
   "source": [
    "## Hashing"
   ]
  },
  {
   "cell_type": "code",
   "execution_count": 1,
   "metadata": {},
   "outputs": [],
   "source": [
    "## Define some function useful for testing\n",
    "import random\n",
    "\n",
    "## generate an array of n random integers up to b\n",
    "def get_random_array(n, b = 50):\n",
    "    return [random.randint(0, b) for _ in range(n)]"
   ]
  },
  {
   "cell_type": "markdown",
   "metadata": {},
   "source": [
    "---\n",
    "\n",
    "### Open Addressing with linear probing\n",
    "\n",
    "[Open addressing](https://en.wikipedia.org/wiki/Open_addressing) is a collision resolution technique used for handling collisions in hashing. \n",
    "\n",
    "All the items are stored in a table of size $\\alpha n$, where $n$ is the number of keys and $\\alpha > 1$ is the load factor.\n",
    "\n",
    "Initially, the table contains only a special value ```None``` which says that the entry is empty. Another \n",
    "special value, say character ```'D'``` is used to mark a entry that contained a key that has been deleted.\n",
    "\n",
    "A hash functon $h()$ is used to specify the order of entries to probe for a key to be inserted/searched/deleted. \n",
    "We start by probing $h(k)$ and, with linear probing, the sequence of probes $S(k)$ is $h(k), h(k)+1, h(k)+2, \\ldots$ , modulo $\\alpha n$.\n",
    "\n",
    "- **Insert** adds the key in the first empty slot that we found with positions in $S(k)$.\n",
    "- **Lookup** is performed by checking positions in $S(k)$ until we find either the key or ```None```.\n",
    "- **Delete** is performed by first sesrching the key and then by replacing it with ```'D'```. Why don't we use ```None``` instead? \n",
    "\n",
    "\n",
    "![alt text](LinearProbing.jpg \"Example\")"
   ]
  },
  {
   "cell_type": "markdown",
   "metadata": {},
   "source": [
    "### Exercise: Open Addressing with linear probing\n",
    "Complete the implementation below by implementing ```Lookup```and ```Delete```.\n",
    "\n",
    "\n",
    "**Optional:** Try to implement quadratic probing. This is the technique employed by Python's set and dictionary. **Note:** not all the value of $c_1$ and $c_2$ are correct. If you generate them at random, for some of them you'll not be able to insert all the key and you'll get a random loop even if the code is correct. "
   ]
  },
  {
   "cell_type": "code",
   "execution_count": null,
   "metadata": {},
   "outputs": [],
   "source": [
    "## Your implementation goes here\n",
    "\n",
    "class linear_probing_set:\n",
    "    def __init__(self, size):\n",
    "        \n",
    "        self.T = [None]*size\n",
    "        self.prime = 993319\n",
    "        self.a = random.randint(2, self.prime-1)\n",
    "        self.b = random.randint(2, self.prime-1)\n",
    "        self.n_keys = 0\n",
    "    \n",
    "    def insert(self, key): # fix len(T) < self.n_keys if you want\n",
    "        if self.lookup(key):\n",
    "            return\n",
    "        h = self.hash(key)\n",
    "        while self.T[h] != None and self.T[h] != 'D':\n",
    "            h += 1\n",
    "            if h == len(self.T):\n",
    "                h = 0\n",
    "        self.T[h] = key\n",
    "        self.n_keys += 1\n",
    "    \n",
    "    # Return True if key is in the set, False otherwise\n",
    "    def lookup(self, key):\n",
    "        # TODO\n",
    "    \n",
    "    def delete(self, key):\n",
    "        # TODO\n",
    "    \n",
    "    def hash(self, key):\n",
    "        return ((self.a*key + self.b) % self.prime) % len(self.T)\n",
    "    \n",
    "    def len(self):\n",
    "        return self.n_keys"
   ]
  },
  {
   "cell_type": "code",
   "execution_count": null,
   "metadata": {},
   "outputs": [],
   "source": [
    "## Test your implementation\n",
    "\n",
    "n = 10000\n",
    "\n",
    "a = get_random_array(n, n)\n",
    "\n",
    "queries = get_random_array(n, n)\n",
    "\n",
    "lp_set = linear_probing_set(2*n)\n",
    "std_set = set()\n",
    "\n",
    "for key in a:\n",
    "    lp_set.insert(key)\n",
    "    std_set.add(key)\n",
    "\n",
    "assert len(std_set) == lp_set.len(), \"Fail len!\"     \n",
    "    \n",
    "for key in a:\n",
    "    assert lp_set.lookup(key) == True, \"Lookup fail a\"\n",
    "  \n",
    "for key in queries:\n",
    "    assert lp_set.lookup(key) == (key in std_set), \"Lookup fail queries\"\n",
    "    \n",
    "for key in a[:300]:\n",
    "    lp_set.delete(key)\n",
    "    try:\n",
    "        std_set.remove(key)\n",
    "    except:\n",
    "        pass # the key has been already removed\n",
    "          \n",
    "    assert lp_set.lookup(key) == (key in std_set), \"Lookup fail delete\"    \n"
   ]
  },
  {
   "cell_type": "code",
   "execution_count": null,
   "metadata": {},
   "outputs": [],
   "source": [
    "%timeit for key in queries: lp_set.lookup(key)\n",
    "    \n",
    "%timeit for key in queries: key in std_set"
   ]
  },
  {
   "cell_type": "markdown",
   "metadata": {},
   "source": [
    "----\n",
    "### Hashing with Chains\n",
    "Instead of just storing the elements in the slots in the table $T$, let every slot be a list which contains all the elements which are in the table and map to that slot. Our operations now become:\n",
    "\n",
    "- `Insert` $(k)$: hash $k$ to an index $i$ in the table. You may want to check if $k$ is already in the set first.\n",
    "- `Lookup` $(k)$: search for $k$ in the list by iterating through all the list.\n",
    "- `Delete` $(k)$: search for $k$ and then remove it from the list.\n",
    "\n",
    "Lookup and Delete takes $O(s)$ time where $s$ is the size of the list. We define $\\alpha = \\frac{n}{m}$ as the **load factor**. If we assume simple uniform hashing, then each element has equal probability to go into any slot. So after $n$ independent elements have been inserted we have and expected length of $\\frac{n}{m} = \\alpha$ for each chain by linearity of expectation. So the run time of all the above operations is time to hash + time to do these operations which is $O(1 + \\alpha)$.\n",
    "\n",
    "![alt text](Chaining.gif \"Example\")"
   ]
  },
  {
   "cell_type": "markdown",
   "metadata": {},
   "source": [
    "### Exercise: Hashing with Chains\n",
    "Complete the implementation below by implementing ```Lookup``` and ```Delete```."
   ]
  },
  {
   "cell_type": "code",
   "execution_count": 1,
   "metadata": {},
   "outputs": [
    {
     "ename": "IndentationError",
     "evalue": "expected an indented block (<ipython-input-1-de56b898796a>, line 28)",
     "output_type": "error",
     "traceback": [
      "\u001b[0;36m  File \u001b[0;32m\"<ipython-input-1-de56b898796a>\"\u001b[0;36m, line \u001b[0;32m28\u001b[0m\n\u001b[0;31m    def delete(self, key):\u001b[0m\n\u001b[0m      ^\u001b[0m\n\u001b[0;31mIndentationError\u001b[0m\u001b[0;31m:\u001b[0m expected an indented block\n"
     ]
    }
   ],
   "source": [
    "## Your implementation goes here\n",
    "\n",
    "class chaining_set:\n",
    "    def __init__(self, size):\n",
    "        \n",
    "        self.T = []\n",
    "        for _ in range(size):\n",
    "            self.T.append([])\n",
    "        ## self.T = [ [] for _ in range(size)]\n",
    "        ## why not self.T = [ [] ] * size ?\n",
    "        \n",
    "        self.prime = 993319\n",
    "        self.a = random.randint(2, self.prime-1)\n",
    "        self.b = random.randint(2, self.prime-1)\n",
    "        self.n_keys = 0\n",
    "        \n",
    "    def insert(self, key):\n",
    "        if self.lookup(key):\n",
    "            return\n",
    "        \n",
    "        h = self.hash(key)\n",
    "        self.T[h].append( key )\n",
    "        self.n_keys += 1\n",
    "    \n",
    "    # return True if key is in the set, False otherwise\n",
    "    def lookup(self, key):\n",
    "        # TODO\n",
    "    \n",
    "    def delete(self, key):\n",
    "        # TODO\n",
    "            \n",
    "    def hash(self, key):\n",
    "        return ((self.a*key + self.b) % self.prime) % len(self.T)\n",
    "    \n",
    "    def len(self):\n",
    "        return self.n_keys"
   ]
  },
  {
   "cell_type": "code",
   "execution_count": null,
   "metadata": {},
   "outputs": [],
   "source": [
    "## Test your implementation\n",
    "\n",
    "n = 10000\n",
    "\n",
    "a = get_random_array(n, n)\n",
    "\n",
    "queries = get_random_array(n, n)\n",
    "\n",
    "c_set = chaining_set(2*n)\n",
    "std_set = set()\n",
    "\n",
    "for key in a:\n",
    "    c_set.insert(key)\n",
    "    std_set.add(key)\n",
    "\n",
    "assert len(std_set) == c_set.len(), \"Fail len!\"     \n",
    "    \n",
    "for key in a:\n",
    "    assert c_set.lookup(key) == True, \"Lookup fail a\"\n",
    "  \n",
    "for key in queries:\n",
    "    assert c_set.lookup(key) == (key in std_set), \"Lookup fail queries\"\n",
    "    \n",
    "for key in a[:300]:\n",
    "    c_set.delete(key)\n",
    "    try:\n",
    "        std_set.remove(key)\n",
    "    except:\n",
    "        pass # the key has been already removed\n",
    "          \n",
    "    assert c_set.lookup(key) == (key in std_set), \"Lookup fail delete\"  "
   ]
  },
  {
   "cell_type": "code",
   "execution_count": null,
   "metadata": {},
   "outputs": [],
   "source": [
    "%timeit for key in queries: c_set.lookup(key)\n",
    "    \n",
    "%timeit for key in queries: key in std_set"
   ]
  },
  {
   "cell_type": "markdown",
   "metadata": {},
   "source": [
    "----\n",
    "\n",
    "### Exercise: Dictionary\n",
    "Modify the previous code (i.e., Hashing with Chains) to implement a dictionary, i.e., store a value together with each key. \n",
    "You need to implement methods:\n",
    "- ```Insert(key, value)```: insert the key with its value. If the key was already present, change its value;\n",
    "- ```Delete(key)```: remove the key;\n",
    "- ```Lookup(key)```: return True if the key is present, False otherwise;\n",
    "- ```Value(key)```: return the value associated with the key. It returns None, if the key is not present.\n",
    "\n",
    "I suggest to store pairs (key, value) within the lists.\n",
    "\n",
    "\n",
    "**Optional**. \n",
    "Implement ```keys()```, ```values()```, and ```items()``` which allows you to iterate over keys, values, and pairs (key, value) respectively. You have to use ```yield``` to implement each generator.  "
   ]
  },
  {
   "cell_type": "code",
   "execution_count": null,
   "metadata": {},
   "outputs": [],
   "source": [
    "## Your implementation goes here\n"
   ]
  },
  {
   "cell_type": "code",
   "execution_count": null,
   "metadata": {},
   "outputs": [],
   "source": [
    "## Write here some tests to test your implementation\n"
   ]
  }
 ],
 "metadata": {
  "kernelspec": {
   "display_name": "Python 3",
   "language": "python",
   "name": "python3"
  },
  "language_info": {
   "codemirror_mode": {
    "name": "ipython",
    "version": 3
   },
   "file_extension": ".py",
   "mimetype": "text/x-python",
   "name": "python",
   "nbconvert_exporter": "python",
   "pygments_lexer": "ipython3",
   "version": "3.9.7"
  },
  "latex_envs": {
   "LaTeX_envs_menu_present": true,
   "autoclose": false,
   "autocomplete": true,
   "bibliofile": "biblio.bib",
   "cite_by": "apalike",
   "current_citInitial": 1,
   "eqLabelWithNumbers": true,
   "eqNumInitial": 1,
   "hotkeys": {
    "equation": "Ctrl-E",
    "itemize": "Ctrl-I"
   },
   "labels_anchors": false,
   "latex_user_defs": false,
   "report_style_numbering": false,
   "user_envs_cfg": false
  },
  "varInspector": {
   "cols": {
    "lenName": 16,
    "lenType": 16,
    "lenVar": 40
   },
   "kernels_config": {
    "python": {
     "delete_cmd_postfix": "",
     "delete_cmd_prefix": "del ",
     "library": "var_list.py",
     "varRefreshCmd": "print(var_dic_list())"
    },
    "r": {
     "delete_cmd_postfix": ") ",
     "delete_cmd_prefix": "rm(",
     "library": "var_list.r",
     "varRefreshCmd": "cat(var_dic_list()) "
    }
   },
   "types_to_exclude": [
    "module",
    "function",
    "builtin_function_or_method",
    "instance",
    "_Feature"
   ],
   "window_display": false
  }
 },
 "nbformat": 4,
 "nbformat_minor": 4
}
