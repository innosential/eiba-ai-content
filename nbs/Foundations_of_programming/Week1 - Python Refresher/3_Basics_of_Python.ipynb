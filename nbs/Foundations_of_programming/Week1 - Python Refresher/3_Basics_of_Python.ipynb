version https://git-lfs.github.com/spec/v1
oid sha256:0e59df4bdcc0cf0ec39c3db6556e2ea0c9a8c127679b61f4308f070f4e13b629
size 46814
